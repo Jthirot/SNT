{
 "cells": [
  {
   "cell_type": "code",
   "execution_count": null,
   "metadata": {
    "collapsed": true
   },
   "outputs": [],
   "source": [
    "# import de la librairie PIL\n",
    "import Image\n",
    "import PIL.Image\n",
    "\n",
    "# ouverture du fichier :\n",
    "img = PIL.Image.open('pomme.jpg')\n",
    "\n",
    "# lecture (console) la taille de l'image\n",
    "l,h=img.size\n",
    "# affichage (console) la taille de l'image\n",
    "print(\"largeur: \",l,\" hauteur:\",h)\n",
    "\n",
    "for x in range(l):\n",
    "  for y in range(h):\n",
    "    r,v,b=img.getpixel((x,y))\n",
    "    img.putpixel( (x,y) , (v,b,r))\n",
    "\n",
    "\n",
    "# enregistrer l'image\n",
    "img.save('out.jpg', \"JPEG\")\n",
    "\n",
    "# clique sur l'icone fichiers dans la barre d'icone à gauche \n",
    "# pour voir les fichiers. clique sur out.jpg pour voir ton\n",
    "# image modifiée\n"
   ]
  }
 ],
 "metadata": {
  "kernelspec": {
   "display_name": "Python 3",
   "language": "python",
   "name": "python3"
  },
  "language_info": {
   "codemirror_mode": {
    "name": "ipython",
    "version": 3
   },
   "file_extension": ".py",
   "mimetype": "text/x-python",
   "name": "python",
   "nbconvert_exporter": "python",
   "pygments_lexer": "ipython3",
   "version": "3.4.5"
  }
 },
 "nbformat": 4,
 "nbformat_minor": 2
}
